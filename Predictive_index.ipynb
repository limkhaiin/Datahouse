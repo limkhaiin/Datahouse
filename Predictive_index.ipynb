{
  "nbformat": 4,
  "nbformat_minor": 0,
  "metadata": {
    "colab": {
      "provenance": []
    },
    "kernelspec": {
      "name": "python3",
      "display_name": "Python 3"
    },
    "language_info": {
      "name": "python"
    }
  },
  "cells": [
    {
      "cell_type": "code",
      "execution_count": 1,
      "metadata": {
        "id": "EuM1tXNhWeaz"
      },
      "outputs": [],
      "source": [
        "import json\n",
        "\n",
        "data = {\n",
        "    \"team\": [\n",
        "        {\n",
        "            \"name\": \"Eddie\",\n",
        "            \"attributes\": {\n",
        "                \"intelligence\": 1,\n",
        "                \"strength\": 5,\n",
        "                \"endurance\": 3,\n",
        "                \"spicyFoodTolerance\": 1\n",
        "            }\n",
        "        },\n",
        "        {\n",
        "            \"name\": \"Will\",\n",
        "            \"attributes\": {\n",
        "                \"intelligence\": 9,\n",
        "                \"strength\": 4,\n",
        "                \"endurance\": 1,\n",
        "                \"spicyFoodTolerance\": 6\n",
        "            }\n",
        "        },\n",
        "        {\n",
        "            \"name\": \"Mike\",\n",
        "            \"attributes\": {\n",
        "                \"intelligence\": 3,\n",
        "                \"strength\": 2,\n",
        "                \"endurance\": 9,\n",
        "                \"spicyFoodTolerance\": 5\n",
        "            }\n",
        "        }\n",
        "    ],\n",
        "    \"applicants\": [\n",
        "        {\n",
        "            \"name\": \"John\",\n",
        "            \"attributes\": {\n",
        "                \"intelligence\": 4,\n",
        "                \"strength\": 5,\n",
        "                \"endurance\": 2,\n",
        "                \"spicyFoodTolerance\": 1\n",
        "            }\n",
        "        },\n",
        "        {\n",
        "            \"name\": \"Jane\",\n",
        "            \"attributes\": {\n",
        "                \"intelligence\": 7,\n",
        "                \"strength\": 4,\n",
        "                \"endurance\": 3,\n",
        "                \"spicyFoodTolerance\": 2\n",
        "            }\n",
        "        },\n",
        "        {\n",
        "            \"name\": \"Joe\",\n",
        "            \"attributes\": {\n",
        "                \"intelligence\": 1,\n",
        "                \"strength\": 1,\n",
        "                \"endurance\": 1,\n",
        "                \"spicyFoodTolerance\": 10\n",
        "            }\n",
        "        }\n",
        "    ]\n",
        "}"
      ]
    },
    {
      "cell_type": "code",
      "source": [
        "def normalization(scores):\n",
        "    # Initialize the maximum and minimum score values\n",
        "    max_value = float('-inf')  # Start with the smallest possible float value\n",
        "    min_value = float('inf')   # Start with the largest possible float value\n",
        "\n",
        "    # Iterate through each score to find the actual maximum and minimum scores\n",
        "    for value in scores:\n",
        "        max_value = max(max_value, value['score'])  # Update max_value if the current score is higher\n",
        "        min_value = min(min_value, value['score'])  # Update min_value if the current score is lower\n",
        "\n",
        "    # Normalize the scores\n",
        "    for value in scores:\n",
        "        # Subtract the minimum value from the score and divide by the range (max - min)\n",
        "        normalized_values = (value['score'] - min_value) / (max_value - min_value)\n",
        "\n",
        "        # Subtract from 1 to invert the score; now a higher score means more compatibility\n",
        "        value['score'] = 1 - normalized_values\n",
        "\n",
        "    # Return the list with normalized scores\n",
        "    return scores\n"
      ],
      "metadata": {
        "id": "I8GiuG5wY5ll"
      },
      "execution_count": 2,
      "outputs": []
    },
    {
      "cell_type": "code",
      "source": [
        "import numpy as np\n",
        "\n",
        "# Function to calculate compatibility scores for applicants based on a team's attributes\n",
        "def calculate_compatibility_score(data):\n",
        "    # Initialize a list to hold scored applicants\n",
        "    scored_applicants = []\n",
        "\n",
        "    # Convert team members' attributes into feature arrays\n",
        "    for member in data['team']:\n",
        "        member['feature'] = np.array(list(member['attributes'].values()))\n",
        "\n",
        "    # Iterate through each applicant\n",
        "    for applicant in data['applicants']:\n",
        "        # Initialize the score with infinity. This will be updated with the lowest score found.\n",
        "        score = float('inf')\n",
        "\n",
        "        # Compare each applicant to every team member\n",
        "        for member in data['team']:\n",
        "            # Calculate the absolute difference between the applicant's and the member's attributes,\n",
        "            # and sum these differences to get a total score for the applicant against this member\n",
        "            difference = np.abs(np.subtract(np.array(list(applicant['attributes'].values())), member['feature']))\n",
        "            total_score = sum(difference)\n",
        "\n",
        "            # Update the score with the minimum of the current score and this total_score\n",
        "            score = min(total_score, score)\n",
        "\n",
        "        # Add the applicant's name and their final compatibility score to the list\n",
        "        scored_applicants.append({\"name\": applicant['name'], \"score\": score})\n",
        "\n",
        "    # Normalize the scores (assuming there's a function `normalization` defined elsewhere)\n",
        "    final_scores = normalization(scored_applicants)\n",
        "\n",
        "    # Return the final normalized scores\n",
        "    return final_scores\n",
        "\n"
      ],
      "metadata": {
        "id": "Su41Ee0WW5Hx"
      },
      "execution_count": 3,
      "outputs": []
    },
    {
      "cell_type": "code",
      "source": [
        "calculate_compatibility_score(data)"
      ],
      "metadata": {
        "colab": {
          "base_uri": "https://localhost:8080/"
        },
        "id": "8QNmNOFfaQ3I",
        "outputId": "41464520-3b6d-4ed4-e139-467e02cb53ba"
      },
      "execution_count": 4,
      "outputs": [
        {
          "output_type": "execute_result",
          "data": {
            "text/plain": [
              "[{'name': 'John', 'score': 1.0},\n",
              " {'name': 'Jane', 'score': 0.6363636363636364},\n",
              " {'name': 'Joe', 'score': 0.0}]"
            ]
          },
          "metadata": {},
          "execution_count": 4
        }
      ]
    },
    {
      "cell_type": "code",
      "source": [],
      "metadata": {
        "id": "seBkuLn1Cf1p"
      },
      "execution_count": null,
      "outputs": []
    }
  ]
}